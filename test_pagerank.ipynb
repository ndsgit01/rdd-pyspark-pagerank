{
  "cells": [
    {
      "cell_type": "markdown",
      "source": [
        "**DATA**\n",
        "<br>\n",
        "src: https://snap.stanford.edu/data/twitter_combined.txt.gz\n",
        "<br>\n",
        "content: Directed edges"
      ],
      "metadata": {
        "id": "m3L1uNG2KhB0"
      }
    },
    {
      "cell_type": "markdown",
      "source": [
        "Download data"
      ],
      "metadata": {
        "id": "AcKRVaZtK3QE"
      }
    },
    {
      "cell_type": "code",
      "execution_count": null,
      "metadata": {
        "id": "CSlqWW6c9DdJ"
      },
      "outputs": [],
      "source": [
        "import requests\n",
        "\n",
        "url = 'https://snap.stanford.edu/data/twitter_combined.txt.gz'\n",
        "file_name = 'twitter_combined.txt.gz'\n",
        "\n",
        "with requests.get(url, stream=True) as r:\n",
        "    with open(file_name, 'wb') as f:\n",
        "        r.raise_for_status()\n",
        "        for chunk in r.iter_content():\n",
        "            f.write(chunk)"
      ]
    },
    {
      "cell_type": "code",
      "execution_count": null,
      "metadata": {
        "id": "OszaZsLMBuDE"
      },
      "outputs": [],
      "source": [
        "!gzip -d twitter_combined.txt.gz"
      ]
    },
    {
      "cell_type": "markdown",
      "source": [
        "**Pyspark - computing page ranks**"
      ],
      "metadata": {
        "id": "iDC2tIotM6vL"
      }
    },
    {
      "cell_type": "markdown",
      "source": [
        "Spark entry-point"
      ],
      "metadata": {
        "id": "hXahTnR6LMZo"
      }
    },
    {
      "cell_type": "code",
      "execution_count": 1,
      "metadata": {
        "id": "1lo-PBDX7DhL"
      },
      "outputs": [],
      "source": [
        "from pyspark.sql import SparkSession"
      ]
    },
    {
      "cell_type": "code",
      "execution_count": 2,
      "metadata": {
        "id": "6sjiXBdp8YY2"
      },
      "outputs": [],
      "source": [
        "spark = SparkSession. \\\n",
        "        builder. \\\n",
        "        appName(\"PythonPageRank\"). \\\n",
        "        getOrCreate()\n",
        "\n",
        "sc = spark.sparkContext"
      ]
    },
    {
      "cell_type": "markdown",
      "source": [
        "Import method to compute page ranks"
      ],
      "metadata": {
        "id": "trw_fMBcLRh-"
      }
    },
    {
      "cell_type": "code",
      "source": [
        "from page_rank import calculate_page_ranks"
      ],
      "metadata": {
        "id": "aT3uy_s37O8Y"
      },
      "execution_count": 3,
      "outputs": []
    },
    {
      "cell_type": "markdown",
      "source": [
        "Compute page ranks"
      ],
      "metadata": {
        "id": "0Jo-ldnXNDZC"
      }
    },
    {
      "cell_type": "code",
      "execution_count": 4,
      "metadata": {
        "colab": {
          "base_uri": "https://localhost:8080/"
        },
        "id": "GCO4VoFrOEWr",
        "outputId": "fa379f66-5bb2-4cca-acb7-091528a3aa75"
      },
      "outputs": [
        {
          "output_type": "stream",
          "name": "stdout",
          "text": [
            "Completed iteration: 0\n",
            "Completed iteration: 1\n",
            "Completed iteration: 2\n",
            "Completed iteration: 3\n",
            "Completed iteration: 4\n",
            "Completed iteration: 5\n",
            "Completed iteration: 6\n",
            "Completed iteration: 7\n",
            "Completed iteration: 8\n",
            "Completed iteration: 9\n",
            "Completed iteration: 10\n",
            "Completed iteration: 11\n",
            "Completed iteration: 12\n",
            "Completed iteration: 13\n",
            "Completed iteration: 14\n",
            "Completed iteration: 15\n",
            "Completed iteration: 16\n",
            "Completed iteration: 17\n",
            "Completed iteration: 18\n",
            "Completed iteration: 19\n",
            "Completed iteration: 20\n",
            "Completed iteration: 21\n",
            "Completed iteration: 22\n",
            "Completed iteration: 23\n",
            "Completed iteration: 24\n",
            "Completed iteration: 25\n",
            "Completed iteration: 26\n",
            "Completed iteration: 27\n",
            "Completed iteration: 28\n",
            "Completed iteration: 29\n",
            "Completed iteration: 30\n",
            "Completed iteration: 31\n",
            "Completed iteration: 32\n",
            "Completed iteration: 33\n",
            "Completed iteration: 34\n",
            "Completed iteration: 35\n",
            "Completed iteration: 36\n",
            "Completed iteration: 37\n",
            "Completed iteration: 38\n",
            "Completed iteration: 39\n",
            "Completed iteration: 40\n",
            "Completed iteration: 41\n",
            "Completed iteration: 42\n",
            "Completed iteration: 43\n",
            "Completed iteration: 44\n",
            "Completed iteration: 45\n",
            "Completed iteration: 46\n",
            "Completed iteration: 47\n",
            "Completed iteration: 48\n",
            "Completed iteration: 49\n",
            "Completed iteration: 50\n",
            "Completed iteration: 51\n",
            "Completed iteration: 52\n",
            "Completed iteration: 53\n",
            "Completed iteration: 54\n",
            "Completed iteration: 55\n",
            "Completed iteration: 56\n",
            "Completed iteration: 57\n",
            "Completed iteration: 58\n",
            "Completed iteration: 59\n",
            "Completed iteration: 60\n",
            "Completed iteration: 61\n",
            "Completed iteration: 62\n",
            "Completed iteration: 63\n",
            "Completed iteration: 64\n",
            "Completed iteration: 65\n",
            "Completed iteration: 66\n",
            "Completed iteration: 67\n",
            "Completed iteration: 68\n",
            "Completed iteration: 69\n",
            "Completed iteration: 70\n",
            "Completed iteration: 71\n",
            "Completed iteration: 72\n",
            "Completed iteration: 73\n",
            "Completed iteration: 74\n",
            "Completed iteration: 75\n",
            "Completed iteration: 76\n",
            "Completed iteration: 77\n",
            "Completed iteration: 78\n",
            "Completed iteration: 79\n",
            "Completed iteration: 80\n",
            "Completed iteration: 81\n",
            "Completed iteration: 82\n",
            "Completed iteration: 83\n",
            "Completed iteration: 84\n",
            "Completed iteration: 85\n",
            "Completed iteration: 86\n",
            "Completed iteration: 87\n",
            "Completed iteration: 88\n",
            "Completed iteration: 89\n",
            "Completed iteration: 90\n",
            "Completed iteration: 91\n",
            "Completed iteration: 92\n",
            "Completed iteration: 93\n",
            "Completed iteration: 94\n",
            "Completed iteration: 95\n",
            "Completed iteration: 96\n",
            "Completed iteration: 97\n",
            "Completed iteration: 98\n",
            "Completed iteration: 99\n"
          ]
        }
      ],
      "source": [
        "page_ranks = calculate_page_ranks(sc, 'twitter_combined.txt', 2, verbose=True)"
      ]
    },
    {
      "cell_type": "markdown",
      "source": [
        "Sort pages by page ranks (descending order)"
      ],
      "metadata": {
        "id": "BsnINfsINGDx"
      }
    },
    {
      "cell_type": "code",
      "execution_count": 6,
      "metadata": {
        "id": "UlZPK_C3r-CS"
      },
      "outputs": [],
      "source": [
        "page_ranks_desc = page_ranks.sortBy(lambda page: page[1], ascending=False)"
      ]
    },
    {
      "cell_type": "markdown",
      "source": [
        "Top 5 pages"
      ],
      "metadata": {
        "id": "Np9pJhJANQ8y"
      }
    },
    {
      "cell_type": "code",
      "execution_count": 7,
      "metadata": {
        "colab": {
          "base_uri": "https://localhost:8080/"
        },
        "id": "A5JYkKdUyexN",
        "outputId": "6457af66-1c03-4002-b8e0-d625a0b119ac"
      },
      "outputs": [
        {
          "output_type": "stream",
          "name": "stdout",
          "text": [
            "('115485051', 0.009997326501781917)\n",
            "('116485573', 0.00849979928955559)\n",
            "('813286', 0.0020088641287148044)\n",
            "('40981798', 0.001956607448113627)\n",
            "('11348282', 0.001819841752132813)\n"
          ]
        }
      ],
      "source": [
        "print(*page_ranks_desc.take(5), sep='\\n')"
      ]
    },
    {
      "cell_type": "markdown",
      "source": [
        "Save page ranks"
      ],
      "metadata": {
        "id": "56P3lSXVNTSI"
      }
    },
    {
      "cell_type": "code",
      "source": [
        "!rm -rf twitter_page_ranks"
      ],
      "metadata": {
        "id": "1_4D8D_zOlGk"
      },
      "execution_count": 14,
      "outputs": []
    },
    {
      "cell_type": "code",
      "execution_count": 15,
      "metadata": {
        "id": "0bj04jivqRHK"
      },
      "outputs": [],
      "source": [
        "page_ranks_desc.map(lambda x: x[0] + ' ' + str(x[1])). \\\n",
        "                saveAsTextFile('twitter_page_ranks')"
      ]
    }
  ],
  "metadata": {
    "colab": {
      "provenance": []
    },
    "kernelspec": {
      "display_name": "Python 3",
      "name": "python3"
    },
    "language_info": {
      "name": "python"
    }
  },
  "nbformat": 4,
  "nbformat_minor": 0
}
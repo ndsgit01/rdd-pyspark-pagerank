{
  "cells": [
    {
      "cell_type": "markdown",
      "source": [
        "**DATA**\n",
        "<br>\n",
        "src: https://snap.stanford.edu/data/twitter_combined.txt.gz\n",
        "<br>\n",
        "content: Directed edges"
      ],
      "metadata": {
        "id": "m3L1uNG2KhB0"
      }
    },
    {
      "cell_type": "markdown",
      "source": [
        "Download data"
      ],
      "metadata": {
        "id": "AcKRVaZtK3QE"
      }
    },
    {
      "cell_type": "code",
      "execution_count": 1,
      "metadata": {
        "id": "CSlqWW6c9DdJ"
      },
      "outputs": [],
      "source": [
        "import requests\n",
        "\n",
        "url = 'https://snap.stanford.edu/data/twitter_combined.txt.gz'\n",
        "file_name = 'twitter_combined.txt.gz'\n",
        "\n",
        "with requests.get(url, stream=True) as r:\n",
        "    with open(file_name, 'wb') as f:\n",
        "        r.raise_for_status()\n",
        "        for chunk in r.iter_content():\n",
        "            f.write(chunk)"
      ]
    },
    {
      "cell_type": "code",
      "source": [
        "!rm -rf twitter_combined.txt"
      ],
      "metadata": {
        "id": "mrYeQevwmfam"
      },
      "execution_count": 2,
      "outputs": []
    },
    {
      "cell_type": "code",
      "execution_count": 3,
      "metadata": {
        "id": "OszaZsLMBuDE"
      },
      "outputs": [],
      "source": [
        "!gzip -d twitter_combined.txt.gz"
      ]
    },
    {
      "cell_type": "markdown",
      "source": [
        "**Pyspark - computing page ranks**"
      ],
      "metadata": {
        "id": "iDC2tIotM6vL"
      }
    },
    {
      "cell_type": "markdown",
      "source": [
        "Spark entry-point"
      ],
      "metadata": {
        "id": "hXahTnR6LMZo"
      }
    },
    {
      "cell_type": "code",
      "execution_count": 4,
      "metadata": {
        "id": "1lo-PBDX7DhL"
      },
      "outputs": [],
      "source": [
        "from pyspark.sql import SparkSession"
      ]
    },
    {
      "cell_type": "code",
      "execution_count": 5,
      "metadata": {
        "id": "6sjiXBdp8YY2"
      },
      "outputs": [],
      "source": [
        "spark = SparkSession. \\\n",
        "        builder. \\\n",
        "        appName(\"PythonPageRank\"). \\\n",
        "        getOrCreate()\n",
        "\n",
        "sc = spark.sparkContext"
      ]
    },
    {
      "cell_type": "markdown",
      "source": [
        "Import method to compute page ranks"
      ],
      "metadata": {
        "id": "trw_fMBcLRh-"
      }
    },
    {
      "cell_type": "code",
      "source": [
        "from page_rank import calculate_page_ranks"
      ],
      "metadata": {
        "id": "aT3uy_s37O8Y"
      },
      "execution_count": 6,
      "outputs": []
    },
    {
      "cell_type": "markdown",
      "source": [
        "Compute page ranks"
      ],
      "metadata": {
        "id": "0Jo-ldnXNDZC"
      }
    },
    {
      "cell_type": "code",
      "execution_count": 7,
      "metadata": {
        "colab": {
          "base_uri": "https://localhost:8080/"
        },
        "id": "GCO4VoFrOEWr",
        "outputId": "81c31682-6f32-407f-af92-9661abaaa63e"
      },
      "outputs": [
        {
          "output_type": "stream",
          "name": "stdout",
          "text": [
            "Completed iteration: 0 Norm of change: 0.009623599223975543\n",
            "Completed iteration: 1 Norm of change: 0.003958334615176089\n",
            "Completed iteration: 2 Norm of change: 0.002585182373956529\n",
            "Completed iteration: 3 Norm of change: 0.002109001588015743\n",
            "Completed iteration: 4 Norm of change: 0.0017404471812438613\n",
            "Completed iteration: 5 Norm of change: 0.0014765669504370998\n",
            "Completed iteration: 6 Norm of change: 0.0012205933413020449\n",
            "Completed iteration: 7 Norm of change: 0.0010400717007814906\n",
            "Completed iteration: 8 Norm of change: 0.0008599520626447965\n",
            "Completed iteration: 9 Norm of change: 0.0007338868885612816\n",
            "Completed iteration: 10 Norm of change: 0.0006073244483828667\n",
            "Completed iteration: 11 Norm of change: 0.0005187391517934819\n",
            "Completed iteration: 12 Norm of change: 0.00042981877173917105\n",
            "Completed iteration: 13 Norm of change: 0.0003673468484928437\n",
            "Completed iteration: 14 Norm of change: 0.00030481530742298117\n",
            "Completed iteration: 15 Norm of change: 0.00026062913338956124\n",
            "Completed iteration: 16 Norm of change: 0.00021658880295414936\n",
            "Completed iteration: 17 Norm of change: 0.00018525250391855655\n",
            "Completed iteration: 18 Norm of change: 0.0001541802454246228\n",
            "Completed iteration: 19 Norm of change: 0.0001319024948985156\n",
            "Completed iteration: 20 Norm of change: 0.0001099389117344895\n",
            "Completed iteration: 21 Norm of change: 9.406593855038157e-05\n",
            "CPU times: user 3.33 s, sys: 357 ms, total: 3.69 s\n",
            "Wall time: 8min 36s\n"
          ]
        }
      ],
      "source": [
        "%%time\n",
        "page_ranks = calculate_page_ranks(sc, 'twitter_combined.txt', 1, verbose=True)"
      ]
    },
    {
      "cell_type": "markdown",
      "source": [
        "Sort pages by page ranks (descending order)"
      ],
      "metadata": {
        "id": "BsnINfsINGDx"
      }
    },
    {
      "cell_type": "code",
      "execution_count": 8,
      "metadata": {
        "id": "UlZPK_C3r-CS",
        "colab": {
          "base_uri": "https://localhost:8080/"
        },
        "outputId": "90e63308-7e53-455b-f910-200fccc47268"
      },
      "outputs": [
        {
          "output_type": "stream",
          "name": "stdout",
          "text": [
            "CPU times: user 16.1 ms, sys: 7.99 ms, total: 24.1 ms\n",
            "Wall time: 939 ms\n"
          ]
        }
      ],
      "source": [
        "%%time\n",
        "page_ranks_desc = page_ranks.sortBy(lambda page: page[1], ascending=False)"
      ]
    },
    {
      "cell_type": "markdown",
      "source": [
        "Top 5 pages"
      ],
      "metadata": {
        "id": "Np9pJhJANQ8y"
      }
    },
    {
      "cell_type": "code",
      "execution_count": 9,
      "metadata": {
        "colab": {
          "base_uri": "https://localhost:8080/"
        },
        "id": "A5JYkKdUyexN",
        "outputId": "6aa5a1dd-7701-4c3f-be9c-164d1f2775a3"
      },
      "outputs": [
        {
          "output_type": "stream",
          "name": "stdout",
          "text": [
            "('115485051', 0.009848538545711827)\n",
            "('116485573', 0.008401366206669711)\n",
            "('813286', 0.002014479264569119)\n",
            "('40981798', 0.0019633251619017664)\n",
            "('11348282', 0.0018254172503175535)\n",
            "CPU times: user 12.3 ms, sys: 1.03 ms, total: 13.3 ms\n",
            "Wall time: 787 ms\n"
          ]
        }
      ],
      "source": [
        "%%time\n",
        "print(*page_ranks_desc.take(5), sep='\\n')"
      ]
    },
    {
      "cell_type": "markdown",
      "source": [
        "Save page ranks"
      ],
      "metadata": {
        "id": "56P3lSXVNTSI"
      }
    },
    {
      "cell_type": "code",
      "source": [
        "!rm -rf twitter_page_ranks"
      ],
      "metadata": {
        "id": "1_4D8D_zOlGk"
      },
      "execution_count": 10,
      "outputs": []
    },
    {
      "cell_type": "code",
      "execution_count": 11,
      "metadata": {
        "id": "0bj04jivqRHK",
        "colab": {
          "base_uri": "https://localhost:8080/"
        },
        "outputId": "2d11c596-89e6-4157-a623-a08868332add"
      },
      "outputs": [
        {
          "output_type": "stream",
          "name": "stdout",
          "text": [
            "CPU times: user 14.3 ms, sys: 1.06 ms, total: 15.3 ms\n",
            "Wall time: 1.44 s\n"
          ]
        }
      ],
      "source": [
        "%%time\n",
        "page_ranks_desc.map(lambda x: x[0] + ' ' + str(x[1])). \\\n",
        "                saveAsTextFile('twitter_page_ranks')"
      ]
    }
  ],
  "metadata": {
    "colab": {
      "provenance": []
    },
    "kernelspec": {
      "display_name": "Python 3",
      "name": "python3"
    },
    "language_info": {
      "name": "python"
    }
  },
  "nbformat": 4,
  "nbformat_minor": 0
}
